{
 "cells": [
  {
   "cell_type": "markdown",
   "id": "ecfd0761",
   "metadata": {},
   "source": [
    "#  get data from database and convert it to list"
   ]
  },
  {
   "cell_type": "code",
   "execution_count": null,
   "id": "0a0f81ae",
   "metadata": {},
   "outputs": [],
   "source": [
    "def get_last_student_user_info(self):\n",
    "        # Get a new cursor object\n",
    "        self.c = self.connection.cursor()\n",
    "\n",
    "        # Execute SELECT query to retrieve last row from table\n",
    "        self.c.execute(\n",
    "            \"SELECT * FROM copy_single_student_user ORDER BY Time DESC LIMIT 1\")\n",
    "\n",
    "        # Fetch the result set\n",
    "        result = self.c.fetchone()\n",
    "\n",
    "        # Convert the result into a list and store it in student_user_info\n",
    "        self.student_user_info = list(result)\n",
    "\n",
    "        return self.student_user_info"
   ]
  },
  {
   "cell_type": "markdown",
   "id": "826413a8",
   "metadata": {},
   "source": [
    "### code defines a method within a class that retrieves information for the last row in a database table called \"copy_single_student_user\". The method creates a cursor object, executes an SQL query to select the last row from the table, retrieves the resulting row as a tuple using the \"fetchone()\" method, converts it to a list, and returns the list. This code is useful for obtaining the most recent data for a student user from the specified table."
   ]
  },
  {
   "cell_type": "markdown",
   "id": "e5dea109",
   "metadata": {},
   "source": [
    " # ----------------------------------------------------------------------------"
   ]
  },
  {
   "cell_type": "markdown",
   "id": "28d48034",
   "metadata": {},
   "source": [
    "# show from database name and level and id"
   ]
  },
  {
   "cell_type": "code",
   "execution_count": null,
   "id": "ab5a4421",
   "metadata": {},
   "outputs": [],
   "source": [
    "student_user_info = self.get_last_student_user_info()\n",
    "        nme = student_user_info[1]\n",
    "        self.lvl = student_user_info[5]\n",
    "        ids = student_user_info[0]"
   ]
  },
  {
   "cell_type": "markdown",
   "id": "5247ef8f",
   "metadata": {},
   "source": [
    "### This code extracts and assigns specific pieces of information from the most recent row in the \"copy_single_student_user\" table in the database. The \"get_last_student_user_info()\" method retrieves the information for the last row, and the extracted values are stored in variables for further use in the program."
   ]
  },
  {
   "cell_type": "markdown",
   "id": "3c566d2c",
   "metadata": {},
   "source": [
    " # ----------------------------------------------------------------------------"
   ]
  },
  {
   "cell_type": "markdown",
   "id": "4d9fe543",
   "metadata": {},
   "source": [
    "# show data in frame"
   ]
  },
  {
   "cell_type": "code",
   "execution_count": null,
   "id": "095524b7",
   "metadata": {},
   "outputs": [],
   "source": [
    "\t\tstudent_info_frame = Frame(\n",
    "            main_pages, width=1130, height=250, bg='white').place(x=365, y=212)\n",
    "        info_label_frame = Frame(\n",
    "            student_info_frame, width=850, height=230, bg=whitey).place(x=617, y=222)\n",
    "        Name_label = Label(info_label_frame, text='NAME : ' + nme, font=(' Microsoft Sans Serif', 30),\n",
    "                           bg=whitey).place(x=630, y=230)\n",
    "\n",
    "        level_label = Label(info_label_frame, text='LEVEL : ' + self.lvl, font=(' Microsoft Sans Serif', 30),\n",
    "                            bg=whitey).place(x=630, y=280)\n",
    "\n",
    "        id_label = Label(info_label_frame, text='ID : ' + ids, font=(' Microsoft Sans Serif', 30),\n",
    "                         bg=whitey).place(x=630, y=330)\n",
    "\n",
    "        status_label = Label(info_label_frame, text='STATUS : ' + 'passed', font=(' Microsoft Sans Serif', 30),\n",
    "                             bg=whitey).place(x=630, y=380)\n",
    "        student_image = Frame(main_pages, width=200,\n",
    "                              height=200, bg=whitey).place(x=375, y=222)"
   ]
  },
  {
   "cell_type": "markdown",
   "id": "df597fdc",
   "metadata": {},
   "source": [
    "### This code creates a simple graphical user interface using the Tkinter library to display information about a student user. The GUI includes labels for the student's name, ID, level, and status, as well as a frame for displaying an image of the student."
   ]
  },
  {
   "cell_type": "markdown",
   "id": "e6f9d64b",
   "metadata": {},
   "source": [
    " # ----------------------------------------------------------------------------"
   ]
  },
  {
   "cell_type": "markdown",
   "id": "e3ff9518",
   "metadata": {},
   "source": [
    "# show main buttons "
   ]
  },
  {
   "cell_type": "code",
   "execution_count": null,
   "id": "283a73d1",
   "metadata": {},
   "outputs": [],
   "source": [
    "Assmnt = Image.open('illustrations\\kassignments.png').resize((38, 38))\n",
    "        Assmnt_resized = ImageTk.PhotoImage(Assmnt)\n",
    "        Assignment = Label(self.root, image=Assmnt_resized, bg='white')\n",
    "        Assignment.image = Assmnt_resized\n",
    "        Assignment.place(x=80, y=417)"
   ]
  },
  {
   "cell_type": "markdown",
   "id": "b6c85d8c",
   "metadata": {},
   "source": [
    "### we have same this code in 8 kinds                                                       1 -  Assignments        2- Materials        3 - Quizzes            4 - student        5 - Fancial       6- settings        7 - survey         8 - about \n"
   ]
  },
  {
   "cell_type": "code",
   "execution_count": null,
   "id": "54f41d42",
   "metadata": {},
   "outputs": [],
   "source": [
    "self.A = Button(left_frame_B, text='STUDENT', bd=0, font=('Dubai Light', 15),\n",
    "                        bg='white', width=11, fg='#919191', command=self.student).place(x=130, y=230)\n",
    "        b = Button(left_frame_B, text='QUIZZES', bd=0, font=('Dubai Light', 15),\n",
    "                   bg='white', width=11, fg='#919191', command=self.quiz).place(x=130, y=290)\n",
    "        c = Button(left_frame_B, text='MATERIALS', bd=0, font=('Dubai Light', 15),\n",
    "                   bg='white', width=11, fg='#919191', command=self.materials).place(x=130, y=350)\n",
    "        d = Button(left_frame_B, text='ASSIGNMENTS', bd=0, font=('Dubai Light', 15),\n",
    "                   bg='white', width=13, fg='#919191', command=self.Assignments).place(x=130, y=410)\n",
    "\n",
    "#  Buttons in ----------------frame c ---------------------\n",
    "        E = Button(left_frame_c, text='FINANCIAL', bd=0, font=(\n",
    "            'Dubai Light', 15), bg='white', width=11, fg='#919191', command=self.money).place(x=130, y=520)\n",
    "        G = Button(left_frame_c, text='SETTINGS', bd=0, font=(\n",
    "            'Dubai Light', 15), bg='white', width=11, fg='#919191', command=self.settings).place(x=130, y=700)\n",
    "        F = Button(left_frame_c, text='survey', bd=0, font=(\n",
    "            'Dubai Light', 15), bg='white', width=11, fg='#919191', command = self.survey).place(x=130, y=580)\n",
    "        H = Button(left_frame_c, text='about', bd=0, font=(\n",
    "            'Dubai Light', 15), bg='white', width=11, fg='#919191', command = self.about).place(x=130, y=640)"
   ]
  },
  {
   "cell_type": "markdown",
   "id": "e5672b67",
   "metadata": {},
   "source": [
    "### This Python code creates several buttons using the Tkinter library within two frames, \"left_frame_B\" and \"left_frame_c\". The buttons in \"left_frame_B\" provide navigation options for different sections of the program, while those in \"left_frame_c\" offer options for managing finances, settings, surveys, and information about the program. The buttons are defined using the \"Button()\" method with various arguments, including text, font, color, width, and command, and are positioned within their respective frames using the \"place()\" method."
   ]
  },
  {
   "cell_type": "markdown",
   "id": "b00db983",
   "metadata": {},
   "source": [
    " # ----------------------------------------------------------------------------"
   ]
  },
  {
   "cell_type": "markdown",
   "id": "d51da449",
   "metadata": {},
   "source": [
    "### named \"frame_quiz\" that creates a specified number of frames within a larger frame called \"self.frames\". "
   ]
  },
  {
   "cell_type": "code",
   "execution_count": null,
   "id": "6c7a5293",
   "metadata": {},
   "outputs": [],
   "source": [
    "def frame_quiz(self, nom_frames, label_texts, btn_txt,):\n",
    "\n",
    "        for i in range(nom_frames):\n",
    "\n",
    "            frame = Frame(self.frames, width=950, height=100,  bg=black_whitey)\n",
    "            frame.pack(side=\"bottom\", padx=20, pady=10)\n",
    "            upper_frame = Frame(frame, width=950, height=60, bg='white')\n",
    "            upper_frame.place(x=0, y=40)\n",
    "            # Add a label to the upper frame\n",
    "            label1 = Label(upper_frame, text=label_texts[i], font=(\n",
    "                \"Arial\", 10), fg=\"black\", bg='white')\n",
    "            label1.place(x=40, y=30)\n",
    "\n",
    "            static_label = Label(upper_frame, text='Total Previous Quizzes. ', bg='white', font=(\n",
    "                'Arial', 10), fg=Blue)\n",
    "            static_label.place(x=20, y=10)\n",
    "\n",
    "            btntxt = Button(frame, text=btn_txt[i], font=(\n",
    "                \"Arial\", 10), fg=\"black\", bg=black_whitey, bd=0)\n",
    "            btntxt.place(x=20, y=8)"
   ]
  },
  {
   "cell_type": "markdown",
   "id": "33188bff",
   "metadata": {},
   "source": [
    "### This Python code defines a method named \"frame_quiz\" that creates a customizable number of frames within a larger frame called \"self.frames\". The frames are designed to display quiz information, each containing an upper and lower frame. The upper frame includes a label displaying the quiz's name and a static label showing the total number of previous quizzes. The lower frame contains a button with customizable text using the \"btn_txt\" argument. The method uses a \"for\" loop to create the specified number of frames, with each frame's properties being customized using various arguments."
   ]
  },
  {
   "cell_type": "markdown",
   "id": "5b0b28ca",
   "metadata": {},
   "source": [
    "# ______________ __________________ ____________________ _____________________ ____________________________________________________________ ____________________ __________________ ___________________________________________________________________________________ __________________ __________________ ______________________________________________ "
   ]
  },
  {
   "cell_type": "markdown",
   "id": "0f000c6c",
   "metadata": {},
   "source": [
    "### show calculator in quiz app "
   ]
  },
  {
   "cell_type": "code",
   "execution_count": null,
   "id": "9c22d593",
   "metadata": {},
   "outputs": [],
   "source": [
    "def calc_frame(self):\n",
    "        self.calc = Frame(self.main_pages_quiz, width=350,\n",
    "                          height=380, bg=light_black)\n",
    "        self.calc.place(x=823, y=0)\n",
    "\n",
    "        title_frame = Frame(self.calc, width=350,\n",
    "                            height=40, bg=light_black_blue)\n",
    "        title_frame.place(x=0, y=0)\n",
    "\n",
    "        title_name = Label(title_frame, text='Calculator', font=(\n",
    "            'Courier New Greek', 22), bg=light_black_blue, fg=orange)\n",
    "        title_name.place(relx=0.5, rely=0.5, anchor=CENTER)\n",
    "\n",
    "        btn_x = Button(self.calc, text='X', bg='red', bd=0, font=(\n",
    "            'Courier New Greek', 10), width=4, height=2, command=self.destroy_frame_calc)\n",
    "        btn_x.place(x=0, y=0)\n",
    "\n",
    "        self.display = Entry(self.calc, width=27,  font=(\n",
    "            \"Arial\", 16), justify=\"right\", bg=light_black, bd=0, fg='white')\n",
    "        self.display.place(x=13, y=42, height=50)\n",
    "\n",
    "        self.keys1 = Frame(self.calc, width=350, height=288, bg=whitey)\n",
    "        self.keys1.place(x=2, y=92)\n",
    "\n",
    "        self.create_buttons()"
   ]
  },
  {
   "cell_type": "markdown",
   "id": "57542f38",
   "metadata": {},
   "source": [
    "### This Python code defines a method named \"calc_frame\" that creates a calculator frame within the main program page using the Tkinter library. The frame includes a title frame with a name label, a close button, a display area, and keys. The buttons are created using the \"create_buttons()\" method, and the frame's dimensions and background color are specified using various arguments."
   ]
  },
  {
   "cell_type": "markdown",
   "id": "8975d1da",
   "metadata": {},
   "source": [
    "# ----------------------------------------------------------------------------------------------------------"
   ]
  },
  {
   "cell_type": "markdown",
   "id": "4aef2052",
   "metadata": {},
   "source": [
    "# let's degisn the the calculator"
   ]
  },
  {
   "cell_type": "code",
   "execution_count": null,
   "id": "393d3804",
   "metadata": {},
   "outputs": [],
   "source": [
    "def create_buttons(self):\n",
    "        buttons = [\n",
    "            {\"text\": \"C\", \"row\": 1, \"column\": 0},\n",
    "            {\"text\": \"CE\", \"row\": 1, \"column\": 1},\n",
    "            {\"text\": \"±\", \"row\": 1, \"column\": 2},\n",
    "            {\"text\": \"√\", \"row\": 1, \"column\": 3},\n",
    "            {\"text\": \"7\", \"row\": 2, \"column\": 0},\n",
    "            {\"text\": \"8\", \"row\": 2, \"column\": 1},\n",
    "            {\"text\": \"9\", \"row\": 2, \"column\": 2},\n",
    "            {\"text\": \"/\", \"row\": 2, \"column\": 3},\n",
    "            {\"text\": \"4\", \"row\": 3, \"column\": 0},\n",
    "            {\"text\": \"5\", \"row\": 3, \"column\": 1},\n",
    "            {\"text\": \"6\", \"row\": 3, \"column\": 2},\n",
    "            {\"text\": \"*\", \"row\": 3, \"column\": 3},\n",
    "            {\"text\": \"1\", \"row\": 4, \"column\": 0},\n",
    "            {\"text\": \"2\", \"row\": 4, \"column\": 1},\n",
    "            {\"text\": \"3\", \"row\": 4, \"column\": 2},\n",
    "            {\"text\": \"-\", \"row\": 4, \"column\": 3},\n",
    "            {\"text\": \"0\", \"row\": 5, \"column\": 0},\n",
    "            {\"text\": \".\", \"row\": 5, \"column\": 1},\n",
    "            {\"text\": \"=\", \"row\": 5, \"column\": 2},\n",
    "            {\"text\": \"+\", \"row\": 5, \"column\": 3},\n",
    "            {\"text\": \"sin\", \"row\": 2, \"column\": 4},\n",
    "            {\"text\": \"cos\", \"row\": 3, \"column\": 4},\n",
    "            {\"text\": \"tan\", \"row\": 4, \"column\": 4},\n",
    "            {\"text\": \"log\", \"row\": 2, \"column\": 5},\n",
    "            {\"text\": \"ln\", \"row\": 3, \"column\": 5},\n",
    "            {\"text\": \"pi\", \"row\": 4, \"column\": 5},\n",
    "            {\"text\": \"e\", \"row\": 5, \"column\": 5},\n",
    "        ]\n",
    "\n",
    "        for button in buttons:\n",
    "            command = lambda x=button[\"text\"]: self.calculate(x)\n",
    "            tk.Button(self.keys1, text=button[\"text\"], width=6, height=3, command=command).grid(\n",
    "                row=button[\"row\"], column=button[\"column\"], padx=0, pady=0)"
   ]
  },
  {
   "cell_type": "markdown",
   "id": "23c9abc2",
   "metadata": {},
   "source": [
    "### This Python code defines a method named \"create_buttons\" that creates buttons for the calculator's keys using a list of dictionaries containing text and position information. The buttons are positioned within the \"keys1\" frame using the \"grid()\" method, with their row and column positions being specified by the dictionary's \"row\" and \"column\" keys. The buttons' text and command are specified using a lambda expression and the \"calculate\" method."
   ]
  },
  {
   "cell_type": "markdown",
   "id": "24dc406f",
   "metadata": {},
   "source": [
    "# ----------------------------------------------------------------------------------------------------------"
   ]
  },
  {
   "cell_type": "markdown",
   "id": "373b7d2e",
   "metadata": {},
   "source": [
    "# let's make functions works "
   ]
  },
  {
   "cell_type": "code",
   "execution_count": null,
   "id": "071eb720",
   "metadata": {},
   "outputs": [],
   "source": [
    "def calculate(self, key):\n",
    "        if key == \"=\":\n",
    "            try:\n",
    "                result = eval(self.display.get())\n",
    "                self.display.delete(0, tk.END)\n",
    "                self.display.insert(tk.END, result)\n",
    "            except:\n",
    "                self.display.delete(0, tk.END)\n",
    "                self.display.insert(tk.END, \"Error\")\n",
    "        elif key == \"C\":\n",
    "            self.display.delete(0, tk.END)\n",
    "        elif key == \"CE\":\n",
    "            self.display.delete(0, tk.END)\n",
    "        elif key == \"±\":\n",
    "            try:\n",
    "                value = self.display.get()\n",
    "                if value[0] == \"-\":\n",
    "                    self.display.delete(0)\n",
    "                else:\n",
    "                    self.display.insert(0, \"-\")\n",
    "            except IndexError:\n",
    "                pass\n",
    "        elif key == \"√\":\n",
    "            try:\n",
    "                value = float(self.display.get())\n",
    "                self.display.delete(0, tk.END)\n",
    "                self.display.insert(0, sqrt(value))\n",
    "            except ValueError:\n",
    "                pass\n",
    "        elif key == \"sin\":\n",
    "            try:\n",
    "                value = float(self.display.get())\n",
    "                self.display.delete(0, tk.END)\n",
    "                self.display.insert(0, sin(value))\n",
    "            except ValueError:\n",
    "                pass\n",
    "        elif key == \"cos\":\n",
    "            try:\n",
    "                value = float(self.display.get())\n",
    "                self.display.delete(0, tk.END)\n",
    "                self.display.insert(0, cos(value))\n",
    "            except ValueError:\n",
    "                pass\n",
    "        elif key == \"tan\":\n",
    "            try:\n",
    "                value = float(self.display.get())\n",
    "                self.display.delete(0, tk.END)\n",
    "                self.display.insert(0, tan(value))\n",
    "            except ValueError:\n",
    "                pass\n",
    "        elif key == \"log\":\n",
    "            try:\n",
    "                value = float(self.display.get())\n",
    "                self.display.delete(0, tk.END)\n",
    "                self.display.insert(0, log10(value))\n",
    "            except ValueError:\n",
    "                pass\n",
    "        elif key == \"ln\":\n",
    "            try:\n",
    "                value = float(self.display.get())\n",
    "                self.display.delete(0, tk.END)\n",
    "                self.display.insert(0, log(value))\n",
    "            except ValueError:\n",
    "                pass\n",
    "        elif key == \"pi\":\n",
    "            self.display.insert(tk.END, pi)\n",
    "\n",
    "        elif key == \"e\":\n",
    "            self.display.insert(tk.END, e)\n",
    "        else:\n",
    "            self.display.insert(tk.END, key)"
   ]
  },
  {
   "cell_type": "markdown",
   "id": "0f986daa",
   "metadata": {},
   "source": [
    "### If the button pressed is \"=\", the method evaluates the expression in the display area using the \"eval()\" method and displays the result, handling any errors with a try-except block. If the button pressed is \"C\", the method clears the display area. If the button pressed is \"CE\", the method removes the last entered character from the display area. If the button pressed is \"±\", the method changes the sign of the displayed number. If the button pressed is \"√\", \"sin\", \"cos\", \"tan\", \"log\", \"ln\", \"pi\", or \"e\", the method performs the corresponding calculation and displays the result.\n",
    "\n",
    "#### Otherwise, the button pressed is a number or operator, and the method appends it to the display area."
   ]
  },
  {
   "cell_type": "markdown",
   "id": "f3a857f7",
   "metadata": {},
   "source": [
    "# ------------------------------------------------------------------------------------------------------"
   ]
  },
  {
   "cell_type": "markdown",
   "id": "108bd110",
   "metadata": {},
   "source": [
    "### let's make notes"
   ]
  },
  {
   "cell_type": "code",
   "execution_count": null,
   "id": "386611e7",
   "metadata": {},
   "outputs": [],
   "source": [
    "def notes(self):\n",
    "        self.frame_notes = Frame(self.main_pages_quiz,\n",
    "                                 width=350, height=380, bg='#F4F269')\n",
    "        self.frame_notes.place(x=823, y=0)\n",
    "\n",
    "        title_frame = Frame(self.frame_notes, width=350,\n",
    "                            height=40, bg=light_black_blue)\n",
    "        title_frame.place(x=0, y=0)\n",
    "\n",
    "        title_name = Label(title_frame, text='Notes', font=(\n",
    "            'Courier New Greek', 22), bg=light_black_blue, fg=orange)\n",
    "        title_name.place(relx=0.5, rely=0.5, anchor=CENTER)\n",
    "\n",
    "        btn_x = Button(self.frame_notes, text='X', bg='red', bd=0, font=(\n",
    "            'Courier New Greek', 10), width=4, height=2, command=self.destroy_frame_notes)\n",
    "        btn_x.place(x=0, y=0)\n",
    "\n",
    "        txt_entry = tk.Text(self.frame_notes, bg='#F4F269',\n",
    "                            width=350, height=340)\n",
    "        txt_entry.place(x=0, y=40)"
   ]
  },
  {
   "cell_type": "markdown",
   "id": "86d373cc",
   "metadata": {},
   "source": [
    "### This Python code defines a method named \"notes\" that creates a notes frame within the main program page using the Tkinter library. The frame includes a title frame with a name label, a close button, and a text entry area. The frame's dimensions and background color are specified using various arguments, and the title frame and name label are added using the \"Frame()\" method. The close button and text entry area are created using the \"Button()\" and \"Text()\" methods, respectively, with various arguments for customization."
   ]
  },
  {
   "cell_type": "markdown",
   "id": "57acae4f",
   "metadata": {},
   "source": [
    "# ---------------------------------------------------------------------------------------------------"
   ]
  },
  {
   "cell_type": "markdown",
   "id": "3e85bb22",
   "metadata": {},
   "source": []
  },
  {
   "cell_type": "code",
   "execution_count": null,
   "id": "22dc7a34",
   "metadata": {},
   "outputs": [],
   "source": [
    "def money(self):\n",
    "        self.money_main = Frame(self.root, width=1536, height=880,\n",
    "                                bg='white',)\n",
    "        self.money_main.place(x=355, y=202)\n",
    "\n",
    "        # ---------- add payment button -------------\n",
    "\n",
    "        frame1 = Frame(self.money_main, width=600, height=300, bg='red')\n",
    "        frame1.grid(column=0, row=0)\n",
    "        btn_1 = Button(frame1, text=\"Payment\", font=(\n",
    "            'Times New Roman', 50), command=self.add_payment, bg=light_black_blue, fg=orange)\n",
    "        btn_1.place(x=0, y=0, width=600, height=300)\n",
    "\n",
    "        # ---------- add course reg button -------------\n",
    "        frame2 = Frame(self.money_main, width=600,  height=300, bg='white')\n",
    "        frame2.grid(column=0, row=1)\n",
    "        btn_2 = Button(frame2, text=\"Course Reg\", font=(\n",
    "            'Times New Roman', 50), command=self.course_reg, bg=light_black_blue, fg=orange)\n",
    "        btn_2.place(x=0, y=0, width=600, height=300)\n",
    "        # ---------- add Balance button -------------\n",
    "        frame3 = Frame(self.money_main, width=600,  height=300, bg='pink')\n",
    "        frame3.grid(column=1, row=0)\n",
    "        btn_3 = Button(frame3, text=\"Balance\", font=(\n",
    "            'Times New Roman', 50), command=self.Balance, bg=light_black_blue, fg=orange)\n",
    "        btn_3.place(x=0, y=0, width=600, height=300)\n",
    "\n",
    "        # ---------- add History button -------------\n",
    "        frame4 = Frame(self.money_main, width=600,  height=300, bg='purple')\n",
    "        frame4.grid(column=1, row=1)\n",
    "        btn_4 = Button(frame4, text=\"History\", font=(\n",
    "            'Times New Roman', 50), command=self.add_payment, bg=light_black_blue, fg=orange)\n",
    "        btn_4.place(x=0, y=0, width=600, height=300)"
   ]
  },
  {
   "cell_type": "markdown",
   "id": "b358bcbd",
   "metadata": {},
   "source": [
    "#### This Python code creates a money frame within the main window of a program using the Tkinter library. The frame includes four buttons for payment, course registration, balance, and history, with each button positioned within a separate frame. The buttons' text, font, color, and command are customized using various arguments."
   ]
  },
  {
   "cell_type": "markdown",
   "id": "c8fba66b",
   "metadata": {},
   "source": [
    "# ---------------------------------------------------------------------------------------------------"
   ]
  },
  {
   "cell_type": "markdown",
   "id": "36883b20",
   "metadata": {},
   "source": [
    "# let's add payment methods "
   ]
  },
  {
   "cell_type": "markdown",
   "id": "661fe7fa",
   "metadata": {},
   "source": [
    "### 1- credit card 2- bank transfer 3- paypal"
   ]
  },
  {
   "attachments": {
    "image.png": {
     "image/png": "[encoded data removed]"
    }
   },
   "cell_type": "markdown",
   "id": "82ffaf3d",
   "metadata": {},
   "source": [
    "![image.png](attachment:image.png)"
   ]
  },
  {
   "cell_type": "markdown",
   "id": "de57abb2",
   "metadata": {},
   "source": [
    "## save credit card details to database"
   ]
  },
  {
   "cell_type": "code",
   "execution_count": null,
   "id": "4e59ccfe",
   "metadata": {},
   "outputs": [],
   "source": [
    "number_card = self.Entry_number.get().strip()\n",
    "        name_card = self.Entry_name.get().strip()\n",
    "        cvv_card = self.Entry_cvv.get().strip()\n",
    "        date_card = self.Entry_date.get().strip()\n",
    "        len_num = len(number_card)\n",
    "        len_cvv = len(cvv_card)\n",
    "        student_user_info = self.get_last_student_user_info()\n",
    "        phone = student_user_info[2]\n",
    "        # self.balance = 0\n",
    "        b = self.connection.cursor()\n",
    "        query = \"SELECT * FROM payment WHERE `user's phone` = %s\"\n",
    "        b.execute(query, (phone,))\n",
    "\n",
    "        print(len_cvv)\n",
    "        if len_num == 16 and len_cvv == 3 and len(name_card) > 0 and len(date_card) > 0:\n",
    "            if len_num == 16:\n",
    "                if len_cvv == 3:\n",
    "                    if b.fetchone() is None:\n",
    "                        student_user_info = self.get_last_student_user_info()\n",
    "                        phone = student_user_info[2]\n",
    "                        vals = (phone, name_card, number_card, date_card,\n",
    "                                time.strftime('%Y-%m-%d %H:%M:%S'), self.balance)\n",
    "                        insert_query = \"INSERT INTO `payment`(`user's phone`, `credit name`, `credit number`, `credit date`, `time added credit`, `total balance`) VALUES (%s, %s, %s, %s, %s, %s)\"\n",
    "                        self.c.execute(insert_query, vals)\n",
    "                        self.connection.commit()\n",
    "                        print('gh')\n",
    "                    else:\n",
    "                        messagebox.showerror(\n",
    "                            'error saving', 'there are saved payment method')\n",
    "                else:\n",
    "                    messagebox.showerror('error saving', 'cvv is wrong')\n",
    "            else:\n",
    "                messagebox.showerror(\n",
    "                    'error saving', 'please enter credit number Right')\n",
    "\n",
    "                self.lbl_number.config(fg='red')\n",
    "        else:\n",
    "            messagebox.showerror('error saving', 'cannot')\n"
   ]
  },
  {
   "cell_type": "markdown",
   "id": "4ae46b6e",
   "metadata": {},
   "source": [
    "### code validates and saves credit card information entered by a user. The credit card number, name, CVV, and expiration date are extracted and checked for validity. The code then interacts with a database to retrieve previous payment info for the user and saves the new payment info if it's valid. If the new payment info is invalid or there is already saved payment info for the user, an error message is displayed."
   ]
  },
  {
   "cell_type": "markdown",
   "id": "92614ab3",
   "metadata": {},
   "source": [
    "# ---------------------------------------------------------------------------------------------------"
   ]
  },
  {
   "cell_type": "markdown",
   "id": "0bf323ed",
   "metadata": {},
   "source": [
    "# course reg 2 main function 1 - pay money 2- check balance "
   ]
  },
  {
   "cell_type": "code",
   "execution_count": null,
   "id": "9f8691e9",
   "metadata": {},
   "outputs": [],
   "source": [
    "def pay_money(self):\n",
    "\n",
    "        self.receipt_frame = Frame(\n",
    "            self.frame_over, bg=whitey, borderwidth=2,  relief=\"solid\")\n",
    "        self.receipt_frame.place(x=420, y=50,  width=400, height=400,)\n",
    "        # add frame in top add in it title and exit button\n",
    "        title_frame = Frame(self.receipt_frame, bg=black_whitey,\n",
    "                            borderwidth=1, relief=\"solid\")\n",
    "        title_frame.place(x=0, y=0, width=396, height=60)\n",
    "        # add btn x to exit\n",
    "        btn_exit = Button(title_frame, bg='red', text=' X ',\n",
    "                          font=('', 25), command=self.destroy_receipt)\n",
    "        btn_exit.place(x=330, y=0)\n",
    "        # add title \"Receipt\"\n",
    "        lbl_Receipt = Label(title_frame, bg=black_whitey,\n",
    "                            font=('', 25), text=\"Receipt\")\n",
    "        lbl_Receipt.place(x=120, y=4)\n",
    "\n",
    "        lbl_no_of_hrs = Label(self.receipt_frame, text='Number of hours : ' +\n",
    "                              str(self.Entry_hrs.get()), font=('', 15), bg=whitey)\n",
    "        lbl_no_of_hrs.place(x=30, y=80)\n",
    "\n",
    "        lbl_price_of_hrs = Label(\n",
    "            self.receipt_frame, text='Price of one hour : ' + str(self.price_hr), font=('', 15), bg=whitey)\n",
    "        lbl_price_of_hrs.place(x=30, y=130)\n",
    "\n",
    "        lbl_total_of_balance_available = Label(\n",
    "            self.receipt_frame, text='Your Balance : ' + str(self.current_money), font=('', 15), bg=whitey)\n",
    "        lbl_total_of_balance_available.place(x=30, y=180)\n",
    "\n",
    "        # add black line frame\n",
    "        line_frame = Frame(self.receipt_frame, bg='black')\n",
    "        line_frame.place(x=0, y=220, width=400, height=3)\n",
    "\n",
    "        total_price = int(self.Entry_hrs.get()) * self.price_hr\n",
    "\n",
    "        lbl_total = Label(self.receipt_frame, text='Total :   ' +\n",
    "                          str(total_price) + '   EGP', font=('', 15), bg=whitey)\n",
    "        lbl_total.place(x=30, y=270)\n",
    "\n",
    "        btn_pay = Button(self.receipt_frame, text='Pay', font=(\n",
    "            '', 20), bg=whitey, fg=light_black, bd=1, relief=SOLID)\n",
    "        btn_cancel = Button(self.receipt_frame, text='cancel', font=(\n",
    "            '', 20), bg='red', fg=light_black, bd=1, relief=SOLID, command=self.destroy_receipt)\n",
    "\n",
    "        btn_pay.place(x=30, y=330, width=150)\n",
    "        btn_cancel.place(x=210, y=330, width=150)\n"
   ]
  },
  {
   "cell_type": "markdown",
   "id": "446fe7c4",
   "metadata": {},
   "source": [
    "### This Python code defines a method named \"pay_money\" that creates a receipt frame within a larger frame using the Tkinter library. The receipt frame includes a title frame, an exit button, and labels displaying information about the user's balance, number of hours, and total price. The frame also includes buttons for paying or canceling the transaction. The receipt frame and its components are created using various Tkinter methods with customized arguments for dimensions, background color, font, text, color, and command."
   ]
  },
  {
   "cell_type": "markdown",
   "id": "e6d15ece",
   "metadata": {},
   "source": [
    "# -----------------------------------------------------------------------------------------------------"
   ]
  },
  {
   "cell_type": "markdown",
   "id": "1724635c",
   "metadata": {},
   "source": [
    "# add_money_to_data"
   ]
  },
  {
   "cell_type": "code",
   "execution_count": null,
   "id": "84d376ef",
   "metadata": {},
   "outputs": [],
   "source": [
    "def add_money_to_data(self):\n",
    "        b = self.connection.cursor()\n",
    "        bb = self.New_Balance.get()\n",
    "        student_user_info = self.get_last_student_user_info()\n",
    "        phone = student_user_info[2]\n",
    "        update_query = \"UPDATE `payment` SET `total balance`= %s WHERE `user's phone` = %s\"\n",
    "        vals = (bb, phone)\n",
    "        b.execute(update_query, vals)\n",
    "        self.connection.commit()"
   ]
  },
  {
   "cell_type": "markdown",
   "id": "f6942aa4",
   "metadata": {},
   "source": [
    "### This Python code defines a method named \"add_money_to_data\" that updates the total balance of a user in a payment database. The method retrieves the new balance information from the \"New_Balance\" variable using the \"get()\" method, and retrieves the user's phone number from a database using the \"get_last_student_user_info()\" method. The new balance and phone number are used to update the user's total balance in the payment database using the \"UPDATE\" SQL command."
   ]
  },
  {
   "cell_type": "markdown",
   "id": "b6d0a41b",
   "metadata": {},
   "source": [
    "# ---------------------------------------------------------------------------------------"
   ]
  },
  {
   "cell_type": "markdown",
   "id": "bf8182d8",
   "metadata": {},
   "source": [
    "# assigments"
   ]
  },
  {
   "cell_type": "code",
   "execution_count": null,
   "id": "9adc2fd3",
   "metadata": {},
   "outputs": [],
   "source": [
    "def Assignments(self):\n",
    "        self.main_Assignments = Frame(self.root, width=1536, height=880,\n",
    "                                      bg=whitey,)\n",
    "        self.main_Assignments.place(x=355, y=202)\n",
    "        static_text_a = Label(self.main_Assignments, text='Assignments List', font=(\n",
    "            'Open Sans', 20), bg=whitey, fg=Grey)\n",
    "        static_text_a.place(x=10, y=10)\n",
    "\n",
    "        self.frames_ASS = tk.Frame(self.main_Assignments,\n",
    "                                   width=1386, height=880, bg=whitey)\n",
    "        self.frames_ASS.place(x=0, y=60)\n",
    "\n",
    "        label_texts = [\"1 Assignments as total 0 as not submitted\", \"1 Assignments as total 0 as not submitted\",\n",
    "                       \"1 Assignments as total 0 as not submitted\", \"1 Assignments as total 0 as not submitted\"]\n",
    "        button_texts = [\"Artificial inteligence\", \"iot\", \"projects\", \"Math 1\"]\n",
    "        self.frame_assignments(4, label_texts, button_texts)\n",
    "\n",
    "    def frame_assignments(self, nom_frames, label_texts, btn_txt,):\n",
    "\n",
    "        for i in range(nom_frames):\n",
    "\n",
    "            frame = Frame(self.frames_ASS, width=950,\n",
    "                          height=100,  bg=black_whitey)\n",
    "            frame.pack(side=\"bottom\", padx=20, pady=10)\n",
    "            upper_frame = Frame(frame, width=950, height=60, bg='white')\n",
    "            upper_frame.place(x=0, y=40)\n",
    "            # Add a label to the upper frame\n",
    "            label1 = Label(upper_frame, text=label_texts[i], font=(\n",
    "                \"Arial\", 10), fg=\"black\", bg='white')\n",
    "            label1.place(x=40, y=30)\n",
    "\n",
    "            static_label = Label(upper_frame, text='Total Previous Assignments. ', bg='white', font=(\n",
    "                'Arial', 10), fg=Blue)\n",
    "            static_label.place(x=20, y=10)\n",
    "\n",
    "            btntxt = Button(frame, text=btn_txt[i], font=(\n",
    "                \"Arial\", 10), fg=\"black\", bg=black_whitey, bd=0)\n",
    "            btntxt.place(x=20, y=8)"
   ]
  },
  {
   "cell_type": "markdown",
   "id": "fff47470",
   "metadata": {},
   "source": [
    "### This Python code defines a method named \"Assignments\" that creates an Assignments frame in the main window of a program using Tkinter. The frame has a label \"Assignments List\" and a grid of buttons and labels showing assignment information. The grid is created using a method named \"frame_assignments\".\n",
    "\n",
    "### The \"Assignments\" method creates the Assignments frame and label with customized arguments for dimensions, background color, font, and text. The \"frame_assignments\" method creates the grid of frames, labels, and buttons with customized arguments for dimensions, position, and text.\n",
    "\n",
    "### Overall, this code is used to create an Assignments frame with a label and a grid of assignment information buttons and labels in the main window of a program."
   ]
  },
  {
   "cell_type": "markdown",
   "id": "5fc141a8",
   "metadata": {},
   "source": [
    "# ---------------------------------------------------------------------------------------------------------"
   ]
  },
  {
   "cell_type": "markdown",
   "id": "d30d9a16",
   "metadata": {},
   "source": [
    "# materials"
   ]
  },
  {
   "cell_type": "code",
   "execution_count": null,
   "id": "2ae89efe",
   "metadata": {},
   "outputs": [],
   "source": [
    "def materials(self):\n",
    "        self.main_materials = Frame(self.root, width=1536, height=880,\n",
    "                                    bg=whitey,)\n",
    "        self.main_materials.place(x=355, y=202)\n",
    "        static_text_a = Label(self.main_materials, text='Materials List', font=(\n",
    "            'Open Sans', 20), bg=whitey, fg=Grey)\n",
    "        static_text_a.place(x=10, y=10)\n",
    "\n",
    "        self.frames_ASS = tk.Frame(self.main_materials,\n",
    "                                   width=1386, height=880, bg=whitey)\n",
    "        self.frames_ASS.place(x=0, y=60)\n",
    "\n",
    "        button_texts = [\"Artificial inteligence\", \"iot\", \"projects\", \"Math 1\"]\n",
    "        self.frame_materials(4, button_texts)\n",
    "\n",
    "    def frame_materials(self, nom_frames,  btn_txt,):\n",
    "\n",
    "        for i in range(nom_frames):\n",
    "\n",
    "            frame = Frame(self.frames_ASS, width=950,\n",
    "                          height=50,  bg=black_whitey)\n",
    "            frame.pack(side=\"bottom\", padx=20, pady=10)\n",
    "\n",
    "            btntxt = Button(frame, text=btn_txt[i], font=(\n",
    "                \"Open Sans\", 15), fg=\"black\", bg=black_whitey, bd=0)\n",
    "            btntxt.place(x=20, y=8)"
   ]
  },
  {
   "cell_type": "code",
   "execution_count": null,
   "id": "1b3011d2",
   "metadata": {},
   "outputs": [],
   "source": []
  },
  {
   "cell_type": "markdown",
   "id": "52fe7da0",
   "metadata": {},
   "source": [
    "## settings"
   ]
  },
  {
   "cell_type": "code",
   "execution_count": null,
   "id": "da948270",
   "metadata": {},
   "outputs": [],
   "source": [
    "def settings(self):\n",
    "        # dataBase setup :\n",
    "        student_user_info = self.get_last_student_user_info()\n",
    "        id = student_user_info[0]\n",
    "        user_name = student_user_info[1]\n",
    "        phone = student_user_info[2]\n",
    "        Email = student_user_info[3]\n",
    "        password = student_user_info[4]\n",
    "        lvl = student_user_info[5]\n",
    "        facu = student_user_info[6]\n",
    "        print(lvl + facu)\n",
    "        \n",
    "        \n",
    "        \n",
    "        self.main_pages_settings = Frame(self.root, width=1536, height=880,\n",
    "                           bg='white',)\n",
    "        self.main_pages_settings.place(x=355, y=202)\n",
    "\n",
    "        lbl_settings = Label(self.main_pages_settings, text=\"settings\", font=(\n",
    "            'Times New Roman', 30), bg='white').place(x=50, y=15)\n",
    "        line_frame = Frame(self.main_pages_settings, width=1536, height=3,\n",
    "                           bg='black', ).place(x=0, y=80)\n",
    "        \n",
    "        lbl_profile = Label(self.main_pages_settings, text=\"profile\", font=(\n",
    "            'Times New Roman', 30), bg='white' , fg = Grey).place(x=50, y=100)\n",
    "        \n",
    "        self.over_main_pages_settings = Frame(self.main_pages_settings, width=1536, height=880,\n",
    "                           bg='white',)\n",
    "        self.over_main_pages_settings.place(x=0, y=160)\n",
    "        \n",
    "        lbl_user_name = Label(self.over_main_pages_settings, text = 'user name  :   ' + user_name, font = ('Times New Roman', 20) , bg = 'white' ).place(x =30 , y =20 )\n",
    "        lbl_phone =Label(self.over_main_pages_settings, text = 'user phone  :   ' + phone, font = ('Times New Roman', 20) , bg = 'white').place(x =30 , y = 70 )\n",
    "        lbl_email =Label(self.over_main_pages_settings, text = 'user email  :   ' + Email, font = ('Times New Roman', 20) , bg = 'white').place(x =30 , y = 120)\n",
    "        lbl_password =Label(self.over_main_pages_settings, text = 'user password  :   ' + password, font = ('Times New Roman', 20) , bg = 'white').place(x =30 , y =170 )\n",
    "        lbl_faculty =Label(self.over_main_pages_settings, text = 'user faculty  :   ' + facu, font = ('Times New Roman', 20) , bg = 'white').place(x =30 , y =220 )\n",
    "        lbl_id =Label(self.over_main_pages_settings, text = 'user ID  :   ' + id, font = ('Times New Roman', 20) , bg = 'white').place(x =30 , y = 270 )\n",
    "        lbl_level =Label(self.over_main_pages_settings, text = 'user level  :   ' + lvl, font = ('Times New Roman', 20) , bg = 'white').place(x =30 , y =320 )\n",
    "        \n",
    "        btn_edit =  Button(self.over_main_pages_settings, command= self.update_data,text = 'CHANGE', font =('Times New Roman',25), bg = light_black_blue , fg = orange)\n",
    "        btn_edit.place(x = 30 , y = 370)\n",
    "        \n",
    "    def update_data(self):\n",
    "    # dataBase setup :\n",
    "        student_user_info = self.get_last_student_user_info()\n",
    "        id = student_user_info[0]\n",
    "        user_name = student_user_info[1]\n",
    "        phone = student_user_info[2]\n",
    "        Email = student_user_info[3]\n",
    "        password = student_user_info[4]\n",
    "        lvl = student_user_info[5]\n",
    "        facu = student_user_info[6]\n",
    "        self.frame_edit = Frame(self.main_pages_settings , bg = 'white' , width=1536, height=880)\n",
    "        self.frame_edit.place(x=0, y=160)\n",
    "        \n",
    "        \n",
    "        lbl_user_name = Label(self.frame_edit, text = 'user name  :   ' , font = ('Times New Roman', 20) , bg = 'white' ).place(x =30 , y =20 )\n",
    "        \n",
    "        self.entry_user_name = Entry(self.frame_edit, width = 30 ,cursor='hand2' , font=('Microsoft YaHei UI Light', 15) ,  fg = Grey , borderwidth= 2 , relief= SOLID)\n",
    "        self.entry_user_name.place(x=230 , y= 25)\n",
    "        self.entry_user_name.insert(0, user_name)\n",
    "        \n",
    "        lbl_phone =Label(self.frame_edit, text = 'user phone  :   '  , font = ('Times New Roman', 20) , bg = 'white').place(x =30 , y = 70 )\n",
    "        \n",
    "        self.entry_user_phone = Entry(self.frame_edit, width = 30 ,cursor='hand2' , font=('Microsoft YaHei UI Light', 15) ,  fg = Grey , borderwidth= 2 , relief= SOLID)\n",
    "        self.entry_user_phone.place(x=230 , y= 75)\n",
    "        self.entry_user_phone.insert(0, phone)\n",
    "        \n",
    "        \n",
    "        \n",
    "        lbl_email =Label(self.frame_edit, text = 'user email  :   '  , font = ('Times New Roman', 20) , bg = 'white').place(x =30 , y = 120)\n",
    "        \n",
    "        self.entry_user_email = Entry(self.frame_edit, width = 30 ,cursor='hand2' , font=('Microsoft YaHei UI Light', 15) ,  fg = Grey , borderwidth= 2 , relief= SOLID)\n",
    "        self.entry_user_email.place(x=230 , y= 125)\n",
    "        self.entry_user_email.insert(0, Email)\n",
    "        \n",
    "        lbl_password =Label(self.frame_edit, text = 'user password  :   ' , font = ('Times New Roman', 20) , bg = 'white').place(x =30 , y =170 )\n",
    "        \n",
    "        self.entry_user_password = Entry(self.frame_edit, width = 30 ,cursor='hand2' , font=('Microsoft YaHei UI Light', 15) ,  fg = Grey , borderwidth= 2 , relief= SOLID)\n",
    "        self.entry_user_password.place(x=230 , y= 175)\n",
    "        self.entry_user_password.insert(0, password)\n",
    "        \n",
    "        lbl_faculty =Label(self.frame_edit, text = 'user faculty  :   ' , font = ('Times New Roman', 20) , bg = 'white').place(x =30 , y =220 )\n",
    "        \n",
    "        self.entry_user_faculty = Entry(self.frame_edit, width = 30 ,cursor='hand2' , font=('Microsoft YaHei UI Light', 15) ,  fg = Grey , borderwidth= 2 , relief= SOLID)\n",
    "        self.entry_user_faculty.place(x=230 , y= 225)\n",
    "        self.entry_user_faculty.insert(0, facu)\n",
    "        \n",
    "        lbl_id =Label(self.frame_edit, text = 'user ID  :   ' , font = ('Times New Roman', 20) , bg = 'white').place(x =30 , y = 270 )\n",
    "        \n",
    "        self.entry_user_id = Entry(self.frame_edit, width = 30 ,cursor='hand2' , font=('Microsoft YaHei UI Light', 15) ,  fg = Grey , borderwidth= 2 , relief= SOLID)\n",
    "        self.entry_user_id.place(x=230 , y= 275)\n",
    "        self.entry_user_id.insert(0, id)\n",
    "        \n",
    "        lbl_level =Label(self.frame_edit, text = 'user level  :   ', font = ('Times New Roman', 20) , bg = 'white').place(x =30 , y =320 )\n",
    "        \n",
    "        self.entry_user_level = Entry(self.frame_edit, width = 30 ,cursor='hand2' , font=('Microsoft YaHei UI Light', 15) ,  fg = Grey , borderwidth= 2 , relief= SOLID)\n",
    "        self.entry_user_level.place(x=230 , y= 325)\n",
    "        self.entry_user_level.insert(0, lvl)\n",
    "        \n",
    "        \n",
    "        \n",
    "        btn_save = Button(self.frame_edit , text = 'save' , command = self.set_update_to_database)\n",
    "        btn_save.place(x= 30 , y= 400)\n",
    "        \n",
    "    def set_update_to_database(self):\n",
    "        self.name_value = str(self.entry_user_name.get())\n",
    "        self.phone_value = str(self.entry_user_phone.get())\n",
    "        self.email_value = str(self.entry_user_email.get())\n",
    "        self.password_value = str(self.entry_user_password.get())\n",
    "        self.faculty_value = str(self.entry_user_faculty.get())\n",
    "        self.id_value = str(self.entry_user_id.get())\n",
    "        self.level_value = str(self.entry_user_level.get())\n",
    "\n",
    "        # Verify that the phone number entered is valid\n",
    "        if not self.phone_value.isdigit() or len(self.phone_value) != 11:\n",
    "            messagebox.showerror(\"Error\", \"Invalid phone number\")\n",
    "            return\n",
    "\n",
    "        # Use a try-except block to catch any database errors\n",
    "        try:\n",
    "            cursor = self.connection.cursor()\n",
    "            query = \"UPDATE copy_single_student_user SET id=%s, NAME=%s, PHONE=%s, EMAIL=%s, PASSWORD=%s, LEVEL=%s, FACULTY=%s WHERE PHONE=%s\"\n",
    "            values = (self.id_value, self.name_value, self.phone_value, self.email_value, self.password_value, self.level_value, self.faculty_value, self.phone_value)\n",
    "            cursor.execute(query, values)\n",
    "            self.connection.commit()\n",
    "            messagebox.showinfo(\"Success\", \"User information updated successfully\")\n",
    "        except Exception as e:\n",
    "            messagebox.showerror(\"Error\", f\"Error updating user information: {str(e)}\")\n",
    "            return"
   ]
  },
  {
   "cell_type": "markdown",
   "id": "5ec81286",
   "metadata": {},
   "source": [
    "### This Python code defines a method named \"settings\" that creates a settings frame in the main window of a program using Tkinter. The frame includes a label \"settings\", a sub-label \"profile\", and a grid of labels displaying the user's personal information. The method also includes a \"change\" button that calls the \"update_data\" method when clicked.\n",
    "\n",
    "### The \"update_data\" method creates an editing frame with Entry widgets for updating the user's personal information and a \"save\" button that calls the \"set_update_to_database\" method when pressed. The \"set_update_to_database\" method retrieves the new user information from the Entry widgets and updates the database accordingly."
   ]
  }
 ],
 "metadata": {
  "kernelspec": {
   "display_name": "Python 3 (ipykernel)",
   "language": "python",
   "name": "python3"
  },
  "language_info": {
   "codemirror_mode": {
    "name": "ipython",
    "version": 3
   },
   "file_extension": ".py",
   "mimetype": "text/x-python",
   "name": "python",
   "nbconvert_exporter": "python",
   "pygments_lexer": "ipython3",
   "version": "3.9.12"
  }
 },
 "nbformat": 4,
 "nbformat_minor": 5
}
